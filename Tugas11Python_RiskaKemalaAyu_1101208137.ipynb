{
  "nbformat": 4,
  "nbformat_minor": 0,
  "metadata": {
    "colab": {
      "name": "Untitled4.ipynb",
      "provenance": [],
      "mount_file_id": "1Ype9BYH15fKntN3lQe9l9LBLmWDsVNGp",
      "authorship_tag": "ABX9TyOMzawTU0RSX3Ke4bJ0Yes8",
      "include_colab_link": true
    },
    "kernelspec": {
      "name": "python3",
      "display_name": "Python 3"
    }
  },
  "cells": [
    {
      "cell_type": "markdown",
      "metadata": {
        "id": "view-in-github",
        "colab_type": "text"
      },
      "source": [
        "<a href=\"https://colab.research.google.com/github/riskakemalaayu/TugasPython11/blob/main/Tugas11Python_RiskaKemalaAyu_1101208137.ipynb\" target=\"_parent\"><img src=\"https://colab.research.google.com/assets/colab-badge.svg\" alt=\"Open In Colab\"/></a>"
      ]
    },
    {
      "cell_type": "code",
      "metadata": {
        "colab": {
          "base_uri": "https://localhost:8080/"
        },
        "id": "KE2AcQ8JcyTe",
        "outputId": "69814cd7-2f9e-47e0-a3d0-7df6bebda4af"
      },
      "source": [
        "cd /content/drive/MyDrive/Colab Notebooks"
      ],
      "execution_count": 1,
      "outputs": [
        {
          "output_type": "stream",
          "text": [
            "/content/drive/MyDrive/Colab Notebooks\n"
          ],
          "name": "stdout"
        }
      ]
    },
    {
      "cell_type": "code",
      "metadata": {
        "colab": {
          "base_uri": "https://localhost:8080/"
        },
        "id": "3BH__Mn9dWui",
        "outputId": "d520760c-780c-4034-c48d-d0953e0edce8"
      },
      "source": [
        "ls"
      ],
      "execution_count": 2,
      "outputs": [
        {
          "output_type": "stream",
          "text": [
            " \u001b[0m\u001b[01;34mcnn\u001b[0m/                       \u001b[01;34mtugas11\u001b[0m/          Untitled2.ipynb\n",
            "'Copy of Untitled1.ipynb'   Untitled0.ipynb   Untitled3.ipynb\n",
            " \u001b[01;34mdataset\u001b[0m/                   Untitled1.ipynb   Untitled4.ipynb\n"
          ],
          "name": "stdout"
        }
      ]
    },
    {
      "cell_type": "code",
      "metadata": {
        "id": "X2rxhh7XdaCV"
      },
      "source": [
        "# import the necessary packages\n",
        "from keras.models import Sequential\n",
        "from keras.layers.core import Activation\n",
        "from keras.layers.core import Flatten\n",
        "from keras.layers.core import Dense\n",
        "from keras.optimizers import Adam\n",
        "from sklearn.preprocessing import LabelBinarizer\n",
        "from sklearn.model_selection import train_test_split\n",
        "from sklearn.metrics import classification_report\n",
        "from PIL import Image\n",
        "from imutils import paths\n",
        "import numpy as np\n",
        "import os"
      ],
      "execution_count": 3,
      "outputs": []
    },
    {
      "cell_type": "code",
      "metadata": {
        "colab": {
          "base_uri": "https://localhost:8080/"
        },
        "id": "hWWXx3CYddds",
        "outputId": "a01c4d36-bb52-4ac1-fac9-3ef79aa61278"
      },
      "source": [
        "# grab all image paths in the input dataset directory, then initialize\n",
        "# our list of images and corresponding class labels\n",
        "print(\"[INFO] loading images...\")\n",
        "imagePaths = paths.list_images(\"tugas11\")\n",
        "data = []\n",
        "labels = []"
      ],
      "execution_count": 4,
      "outputs": [
        {
          "output_type": "stream",
          "text": [
            "[INFO] loading images...\n"
          ],
          "name": "stdout"
        }
      ]
    },
    {
      "cell_type": "code",
      "metadata": {
        "id": "OpgeIzXSdjic"
      },
      "source": [
        "# loop over our input images\n",
        "for imagePath in imagePaths:\n",
        "\t# load the input image from disk, resize it to 32X32 pixels, scale\n",
        "\t# the pixel intensities to the range [0, 1], and then update our\n",
        "\t# images list\n",
        "\timage = Image.open(imagePath)\n",
        "  #preprocessing\n",
        "\timage = np.array(image.resize((32, 32))) / 255.0 #normalisasi\n",
        "\tdata.append(image)\n",
        "\n",
        "\t# extract the class label from the file path and update the\n",
        "\t# labels list\n",
        "\tlabel = imagePath.split(os.path.sep)[-2]\n",
        "\tlabels.append(label)"
      ],
      "execution_count": 5,
      "outputs": []
    },
    {
      "cell_type": "code",
      "metadata": {
        "colab": {
          "base_uri": "https://localhost:8080/"
        },
        "id": "IReeJFJagncC",
        "outputId": "7dde0706-5eb5-400d-c7b8-4d607493100c"
      },
      "source": [
        "print(labels)"
      ],
      "execution_count": 6,
      "outputs": [
        {
          "output_type": "stream",
          "text": [
            "['GMB_04', 'GMB_04', 'GMB_04', 'GMB_04', 'GMB_04', 'GMB_04', 'GMB_04', 'GMB_04', 'GMB_04', 'GMB_04', 'GMB_04', 'GMB_04', 'GMB_04', 'GMB_04', 'GMB_04', 'GMB_04', 'GMB_04', 'GMB_04', 'GMB_04', 'GMB_04', 'GMB_04', 'GMB_04', 'GMB_04', 'GMB_04', 'GMB_04', 'GMB_04', 'GMB_04', 'GMB_04', 'GMB_04', 'GMB_04', 'GMB_04', 'GMB_04', 'GMB_04', 'GMB_04', 'GMB_04', 'GMB_04', 'GMB_04', 'GMB_04', 'GMB_04', 'GMB_04', 'GMB_04', 'GMB_04', 'GMB_04', 'GMB_04', 'GMB_04', 'GMB_04', 'GMB_04', 'GMB_04', 'GMB_04', 'GMB_04', 'GMB_04', 'GMB_04', 'GMB_04', 'GMB_04', 'GMB_04', 'GMB_04', 'GMB_04', 'GMB_04', 'GMB_04', 'GMB_04', 'GMB_04', 'GMB_04', 'GMB_04', 'GMB_04', 'GMB_04', 'GMB_04', 'GMB_04', 'GMB_04', 'GMB_04', 'GMB_04', 'GMB_04', 'GMB_04', 'GMB_04', 'GMB_04', 'GMB_04', 'GMB_04', 'GMB_04', 'GMB_04', 'GMB_04', 'GMB_04', 'GMB_04', 'GMB_04', 'GMB_04', 'GMB_04', 'GMB_04', 'GMB_04', 'GMB_04', 'GMB_04', 'GMB_04', 'GMB_04', 'GMB_04', 'GMB_04', 'GMB_04', 'GMB_04', 'GMB_04', 'GMB_04', 'GMB_04', 'GMB_04', 'GMB_04', 'GMB_04', 'GMB_04', 'GMB_04', 'GMB_04', 'GMB_04', 'GMB_04', 'GMB_04', 'GMB_04', 'GMB_04', 'GMB_04', 'GMB_04', 'GMB_04', 'GMB_04', 'GMB_04', 'GMB_04', 'GMB_04', 'GMB_04', 'GMB_04', 'GMB_04', 'GMB_04', 'GMB_04', 'GMB_04', 'GMB_04', 'GMB_06', 'GMB_06', 'GMB_06', 'GMB_06', 'GMB_06', 'GMB_06', 'GMB_06', 'GMB_06', 'GMB_06', 'GMB_06', 'GMB_06', 'GMB_06', 'GMB_06', 'GMB_06', 'GMB_06', 'GMB_06', 'GMB_06', 'GMB_06', 'GMB_06', 'GMB_06', 'GMB_06', 'GMB_06', 'GMB_06', 'GMB_06', 'GMB_06', 'GMB_06', 'GMB_06', 'GMB_06', 'GMB_06', 'GMB_06', 'GMB_06', 'GMB_06', 'GMB_06', 'GMB_06', 'GMB_06', 'GMB_06', 'GMB_06', 'GMB_06', 'GMB_06', 'GMB_06', 'GMB_06', 'GMB_06', 'GMB_06', 'GMB_06', 'GMB_06', 'GMB_06', 'GMB_06', 'GMB_06', 'GMB_06', 'GMB_06', 'GMB_06', 'GMB_06', 'GMB_06', 'GMB_06', 'GMB_06', 'GMB_06', 'GMB_06', 'GMB_06', 'GMB_06', 'GMB_06', 'GMB_06', 'GMB_06', 'GMB_06', 'GMB_06', 'GMB_06', 'GMB_06', 'GMB_06', 'GMB_06', 'GMB_06', 'GMB_06', 'GMB_06', 'GMB_06', 'GMB_06', 'GMB_06', 'GMB_06', 'GMB_06', 'GMB_06', 'GMB_06', 'GMB_06', 'GMB_06', 'GMB_06', 'GMB_06', 'GMB_06', 'GMB_06', 'GMB_06', 'GMB_06', 'GMB_06', 'GMB_06', 'GMB_06', 'GMB_06', 'GMB_06', 'GMB_06', 'GMB_06', 'GMB_06', 'GMB_06', 'GMB_06', 'GMB_06', 'GMB_06', 'GMB_06', 'GMB_06', 'GMB_06', 'GMB_06', 'GMB_06', 'GMB_06', 'GMB_06', 'GMB_06', 'GMB_06', 'GMB_06', 'GMB_06', 'GMB_06', 'GMB_06', 'GMB_06', 'GMB_06', 'GMB_06', 'GMB_06', 'GMB_06', 'GMB_06', 'GMB_06', 'GMB_06', 'GMB_06', 'GMB_06', 'GMB_11', 'GMB_11', 'GMB_11', 'GMB_11', 'GMB_11', 'GMB_11', 'GMB_11', 'GMB_11', 'GMB_11', 'GMB_11', 'GMB_11', 'GMB_11', 'GMB_11', 'GMB_11', 'GMB_11', 'GMB_11', 'GMB_11', 'GMB_11', 'GMB_11', 'GMB_11', 'GMB_11', 'GMB_11', 'GMB_11', 'GMB_11', 'GMB_11', 'GMB_11', 'GMB_11', 'GMB_11', 'GMB_11', 'GMB_11', 'GMB_11', 'GMB_11', 'GMB_11', 'GMB_11', 'GMB_11', 'GMB_11', 'GMB_11', 'GMB_11', 'GMB_11', 'GMB_11', 'GMB_11', 'GMB_11', 'GMB_11', 'GMB_11', 'GMB_11', 'GMB_11', 'GMB_11', 'GMB_11', 'GMB_11', 'GMB_11', 'GMB_11', 'GMB_11', 'GMB_11', 'GMB_11', 'GMB_11', 'GMB_11', 'GMB_11', 'GMB_11', 'GMB_11', 'GMB_11', 'GMB_11', 'GMB_11', 'GMB_11', 'GMB_11', 'GMB_11', 'GMB_11', 'GMB_11', 'GMB_11', 'GMB_11', 'GMB_11', 'GMB_11', 'GMB_11', 'GMB_11', 'GMB_11', 'GMB_11', 'GMB_11', 'GMB_11', 'GMB_11', 'GMB_11', 'GMB_11', 'GMB_11', 'GMB_11', 'GMB_11', 'GMB_11', 'GMB_11', 'GMB_11', 'GMB_11', 'GMB_11', 'GMB_11', 'GMB_11', 'GMB_11', 'GMB_11', 'GMB_11', 'GMB_11', 'GMB_11', 'GMB_11', 'GMB_11', 'GMB_11', 'GMB_11', 'GMB_11', 'GMB_11', 'GMB_11', 'GMB_11', 'GMB_11', 'GMB_11', 'GMB_11', 'GMB_11', 'GMB_11', 'GMB_11', 'GMB_11', 'GMB_11', 'GMB_11', 'GMB_11', 'GMB_11', 'GMB_11', 'GMB_11', 'GMB_11', 'GMB_11', 'GMB_11', 'GMB_11', 'GMB_11', 'GMB_11', 'GMB_11', 'GMB_11', 'GMB_11', 'GMB_11', 'GMB_11', 'GMB_11', 'GMB_11', 'GMB_09', 'GMB_09', 'GMB_09', 'GMB_09', 'GMB_09', 'GMB_09', 'GMB_09', 'GMB_09', 'GMB_09', 'GMB_09', 'GMB_09', 'GMB_09', 'GMB_09', 'GMB_09', 'GMB_09', 'GMB_09', 'GMB_09', 'GMB_09', 'GMB_09', 'GMB_09', 'GMB_09', 'GMB_09', 'GMB_09', 'GMB_09', 'GMB_09', 'GMB_09', 'GMB_09', 'GMB_09', 'GMB_09', 'GMB_09', 'GMB_09', 'GMB_09', 'GMB_09', 'GMB_09', 'GMB_09', 'GMB_09', 'GMB_09', 'GMB_09', 'GMB_09', 'GMB_09', 'GMB_09', 'GMB_09', 'GMB_09', 'GMB_09', 'GMB_09', 'GMB_09', 'GMB_09', 'GMB_09', 'GMB_09', 'GMB_09', 'GMB_09', 'GMB_09', 'GMB_09', 'GMB_09', 'GMB_09', 'GMB_09', 'GMB_09', 'GMB_09', 'GMB_09', 'GMB_09', 'GMB_09', 'GMB_09', 'GMB_09', 'GMB_09', 'GMB_09', 'GMB_09', 'GMB_09', 'GMB_09', 'GMB_09', 'GMB_09', 'GMB_09', 'GMB_09', 'GMB_09', 'GMB_09', 'GMB_09', 'GMB_09', 'GMB_09', 'GMB_09', 'GMB_09', 'GMB_09', 'GMB_09', 'GMB_09', 'GMB_09', 'GMB_09', 'GMB_09', 'GMB_09', 'GMB_09', 'GMB_09', 'GMB_09', 'GMB_09', 'GMB_09', 'GMB_09', 'GMB_09', 'GMB_09', 'GMB_09', 'GMB_09', 'GMB_09', 'GMB_09', 'GMB_09', 'GMB_09', 'GMB_09', 'GMB_09', 'GMB_09', 'GMB_09', 'GMB_09', 'GMB_09', 'GMB_09', 'GMB_09', 'GMB_09', 'GMB_09', 'GMB_09', 'GMB_09', 'GMB_09', 'GMB_09', 'GMB_09', 'GMB_03', 'GMB_03', 'GMB_03', 'GMB_03', 'GMB_03', 'GMB_03', 'GMB_03', 'GMB_03', 'GMB_03', 'GMB_03', 'GMB_03', 'GMB_03', 'GMB_03', 'GMB_03', 'GMB_03', 'GMB_03', 'GMB_03', 'GMB_03', 'GMB_03', 'GMB_03', 'GMB_03', 'GMB_03', 'GMB_03', 'GMB_03', 'GMB_03', 'GMB_03', 'GMB_03', 'GMB_03', 'GMB_03', 'GMB_03', 'GMB_03', 'GMB_03', 'GMB_03', 'GMB_03', 'GMB_03', 'GMB_03', 'GMB_03', 'GMB_03', 'GMB_03', 'GMB_03', 'GMB_03', 'GMB_03', 'GMB_03', 'GMB_03', 'GMB_03', 'GMB_03', 'GMB_03', 'GMB_03', 'GMB_03', 'GMB_03', 'GMB_03', 'GMB_03', 'GMB_03', 'GMB_03', 'GMB_03', 'GMB_03', 'GMB_03', 'GMB_03', 'GMB_03', 'GMB_03', 'GMB_03', 'GMB_03', 'GMB_03', 'GMB_03', 'GMB_03', 'GMB_03', 'GMB_03', 'GMB_03', 'GMB_03', 'GMB_03', 'GMB_03', 'GMB_03', 'GMB_03', 'GMB_03', 'GMB_03', 'GMB_03', 'GMB_03', 'GMB_03', 'GMB_03', 'GMB_03', 'GMB_03', 'GMB_03', 'GMB_03', 'GMB_03', 'GMB_03', 'GMB_03', 'GMB_03', 'GMB_03', 'GMB_03', 'GMB_03', 'GMB_03', 'GMB_03', 'GMB_03', 'GMB_03', 'GMB_03', 'GMB_03', 'GMB_03', 'GMB_03', 'GMB_03', 'GMB_03', 'GMB_03', 'GMB_03', 'GMB_03', 'GMB_03', 'GMB_03', 'GMB_03', 'GMB_03', 'GMB_03', 'GMB_03', 'GMB_03', 'GMB_03', 'GMB_03']\n"
          ],
          "name": "stdout"
        }
      ]
    },
    {
      "cell_type": "code",
      "metadata": {
        "id": "zWO1ToOlgsKC"
      },
      "source": [
        "lb = LabelBinarizer()\n",
        "labels = lb.fit_transform(labels)"
      ],
      "execution_count": 7,
      "outputs": []
    },
    {
      "cell_type": "code",
      "metadata": {
        "colab": {
          "base_uri": "https://localhost:8080/"
        },
        "id": "EX2kMxvjgwPH",
        "outputId": "55624a8f-1b8d-4a47-ec20-b9024711f0b4"
      },
      "source": [
        "print(labels)"
      ],
      "execution_count": 8,
      "outputs": [
        {
          "output_type": "stream",
          "text": [
            "[[0 1 0 0 0]\n",
            " [0 1 0 0 0]\n",
            " [0 1 0 0 0]\n",
            " ...\n",
            " [1 0 0 0 0]\n",
            " [1 0 0 0 0]\n",
            " [1 0 0 0 0]]\n"
          ],
          "name": "stdout"
        }
      ]
    },
    {
      "cell_type": "code",
      "metadata": {
        "colab": {
          "base_uri": "https://localhost:8080/"
        },
        "id": "94zXSQO-g0aN",
        "outputId": "e15e5b95-8e5f-4ecb-e334-16928357a1ad"
      },
      "source": [
        "# perform a training and testing split, using 75% of the data for\n",
        "# training and 25% for evaluation\n",
        "(trainX, testX, trainY, testY) = train_test_split(np.array(data),\tnp.array(labels), test_size=0.25, shuffle=True)\n",
        "print(trainX.shape)\n",
        "print(testX.shape)"
      ],
      "execution_count": 9,
      "outputs": [
        {
          "output_type": "stream",
          "text": [
            "(449, 32, 32, 3)\n",
            "(150, 32, 32, 3)\n"
          ],
          "name": "stdout"
        }
      ]
    },
    {
      "cell_type": "code",
      "metadata": {
        "colab": {
          "base_uri": "https://localhost:8080/"
        },
        "id": "qx2e31PUg4EL",
        "outputId": "65959904-fb4b-4e97-9a9f-5ed75e50f598"
      },
      "source": [
        "from keras.layers import Convolution2D, MaxPooling2D\n",
        "from keras.models import Sequential\n",
        "from keras.layers.core import Flatten, Dense\n",
        "\n",
        "model1 = Sequential()\n",
        "model1.add(Convolution2D(32, (3,3), activation='relu', input_shape=(32,32,3)))\n",
        "model1.add(MaxPooling2D(2,2))\n",
        "model1.add(Convolution2D(64, (3,3), activation='relu'))\n",
        "model1.add(MaxPooling2D(2,2))\n",
        "model1.add(Convolution2D(64, (3,3), activation='relu'))\n",
        "model1.add(MaxPooling2D(2,2))\n",
        "#fully connected layer\n",
        "model1.add(Flatten())\n",
        "model1.add(Dense(100, activation='relu'))\n",
        "model1.add(Dense(5, activation='softmax'))\n",
        "\n",
        "model1.summary()"
      ],
      "execution_count": 10,
      "outputs": [
        {
          "output_type": "stream",
          "text": [
            "Model: \"sequential\"\n",
            "_________________________________________________________________\n",
            "Layer (type)                 Output Shape              Param #   \n",
            "=================================================================\n",
            "conv2d (Conv2D)              (None, 30, 30, 32)        896       \n",
            "_________________________________________________________________\n",
            "max_pooling2d (MaxPooling2D) (None, 15, 15, 32)        0         \n",
            "_________________________________________________________________\n",
            "conv2d_1 (Conv2D)            (None, 13, 13, 64)        18496     \n",
            "_________________________________________________________________\n",
            "max_pooling2d_1 (MaxPooling2 (None, 6, 6, 64)          0         \n",
            "_________________________________________________________________\n",
            "conv2d_2 (Conv2D)            (None, 4, 4, 64)          36928     \n",
            "_________________________________________________________________\n",
            "max_pooling2d_2 (MaxPooling2 (None, 2, 2, 64)          0         \n",
            "_________________________________________________________________\n",
            "flatten (Flatten)            (None, 256)               0         \n",
            "_________________________________________________________________\n",
            "dense (Dense)                (None, 100)               25700     \n",
            "_________________________________________________________________\n",
            "dense_1 (Dense)              (None, 5)                 505       \n",
            "=================================================================\n",
            "Total params: 82,525\n",
            "Trainable params: 82,525\n",
            "Non-trainable params: 0\n",
            "_________________________________________________________________\n"
          ],
          "name": "stdout"
        }
      ]
    },
    {
      "cell_type": "code",
      "metadata": {
        "colab": {
          "base_uri": "https://localhost:8080/"
        },
        "id": "O7q_MfKQg8Ro",
        "outputId": "66551fa2-6858-43d0-81e6-418fc4755093"
      },
      "source": [
        "# train the model using the Adam optimizer\n",
        "print(\"[INFO] training network...\")\n",
        "opt = Adam(lr=1e-3, decay=1e-3 / 50)\n",
        "model1.compile(loss=\"categorical_crossentropy\", optimizer=opt, metrics=[\"accuracy\"])"
      ],
      "execution_count": 11,
      "outputs": [
        {
          "output_type": "stream",
          "text": [
            "[INFO] training network...\n"
          ],
          "name": "stdout"
        }
      ]
    },
    {
      "cell_type": "code",
      "metadata": {
        "colab": {
          "base_uri": "https://localhost:8080/"
        },
        "id": "3iAelIabg-71",
        "outputId": "cde6df42-b00f-43ea-d758-d79ca4cdfd11"
      },
      "source": [
        "H = model1.fit(trainX, trainY, validation_data=(testX, testY), epochs=38, batch_size=42)"
      ],
      "execution_count": 12,
      "outputs": [
        {
          "output_type": "stream",
          "text": [
            "Epoch 1/38\n",
            "11/11 [==============================] - 1s 66ms/step - loss: 1.6055 - accuracy: 0.1960 - val_loss: 1.5837 - val_accuracy: 0.2933\n",
            "Epoch 2/38\n",
            "11/11 [==============================] - 1s 53ms/step - loss: 1.5529 - accuracy: 0.3296 - val_loss: 1.4975 - val_accuracy: 0.3800\n",
            "Epoch 3/38\n",
            "11/11 [==============================] - 1s 52ms/step - loss: 1.4429 - accuracy: 0.3653 - val_loss: 1.3354 - val_accuracy: 0.4333\n",
            "Epoch 4/38\n",
            "11/11 [==============================] - 1s 53ms/step - loss: 1.2906 - accuracy: 0.4454 - val_loss: 1.2352 - val_accuracy: 0.4800\n",
            "Epoch 5/38\n",
            "11/11 [==============================] - 1s 53ms/step - loss: 1.2147 - accuracy: 0.4610 - val_loss: 1.1815 - val_accuracy: 0.4933\n",
            "Epoch 6/38\n",
            "11/11 [==============================] - 1s 52ms/step - loss: 1.1497 - accuracy: 0.4833 - val_loss: 1.1431 - val_accuracy: 0.5267\n",
            "Epoch 7/38\n",
            "11/11 [==============================] - 1s 53ms/step - loss: 1.1099 - accuracy: 0.5212 - val_loss: 1.0607 - val_accuracy: 0.5667\n",
            "Epoch 8/38\n",
            "11/11 [==============================] - 1s 54ms/step - loss: 1.0476 - accuracy: 0.5345 - val_loss: 1.1589 - val_accuracy: 0.5000\n",
            "Epoch 9/38\n",
            "11/11 [==============================] - 1s 52ms/step - loss: 1.0149 - accuracy: 0.5813 - val_loss: 1.0205 - val_accuracy: 0.5800\n",
            "Epoch 10/38\n",
            "11/11 [==============================] - 1s 54ms/step - loss: 0.9433 - accuracy: 0.5880 - val_loss: 1.0101 - val_accuracy: 0.5867\n",
            "Epoch 11/38\n",
            "11/11 [==============================] - 1s 53ms/step - loss: 0.8647 - accuracy: 0.6303 - val_loss: 0.9541 - val_accuracy: 0.6200\n",
            "Epoch 12/38\n",
            "11/11 [==============================] - 1s 52ms/step - loss: 0.8131 - accuracy: 0.6771 - val_loss: 0.9416 - val_accuracy: 0.6200\n",
            "Epoch 13/38\n",
            "11/11 [==============================] - 1s 54ms/step - loss: 0.8053 - accuracy: 0.6927 - val_loss: 0.8297 - val_accuracy: 0.6733\n",
            "Epoch 14/38\n",
            "11/11 [==============================] - 1s 52ms/step - loss: 0.6935 - accuracy: 0.7728 - val_loss: 0.8144 - val_accuracy: 0.7133\n",
            "Epoch 15/38\n",
            "11/11 [==============================] - 1s 54ms/step - loss: 0.6792 - accuracy: 0.7617 - val_loss: 0.8399 - val_accuracy: 0.6933\n",
            "Epoch 16/38\n",
            "11/11 [==============================] - 1s 54ms/step - loss: 0.6261 - accuracy: 0.7416 - val_loss: 0.7573 - val_accuracy: 0.7000\n",
            "Epoch 17/38\n",
            "11/11 [==============================] - 1s 53ms/step - loss: 0.5961 - accuracy: 0.7528 - val_loss: 0.7506 - val_accuracy: 0.7333\n",
            "Epoch 18/38\n",
            "11/11 [==============================] - 1s 54ms/step - loss: 0.5464 - accuracy: 0.8174 - val_loss: 0.7335 - val_accuracy: 0.7600\n",
            "Epoch 19/38\n",
            "11/11 [==============================] - 1s 53ms/step - loss: 0.4888 - accuracy: 0.8107 - val_loss: 0.6834 - val_accuracy: 0.7733\n",
            "Epoch 20/38\n",
            "11/11 [==============================] - 1s 53ms/step - loss: 0.4863 - accuracy: 0.8352 - val_loss: 0.8377 - val_accuracy: 0.6667\n",
            "Epoch 21/38\n",
            "11/11 [==============================] - 1s 54ms/step - loss: 0.5034 - accuracy: 0.7996 - val_loss: 0.7613 - val_accuracy: 0.7333\n",
            "Epoch 22/38\n",
            "11/11 [==============================] - 1s 53ms/step - loss: 0.4642 - accuracy: 0.8241 - val_loss: 0.6337 - val_accuracy: 0.8000\n",
            "Epoch 23/38\n",
            "11/11 [==============================] - 1s 54ms/step - loss: 0.3873 - accuracy: 0.8886 - val_loss: 0.6779 - val_accuracy: 0.7667\n",
            "Epoch 24/38\n",
            "11/11 [==============================] - 1s 54ms/step - loss: 0.3646 - accuracy: 0.8641 - val_loss: 0.6610 - val_accuracy: 0.8067\n",
            "Epoch 25/38\n",
            "11/11 [==============================] - 1s 54ms/step - loss: 0.3239 - accuracy: 0.8976 - val_loss: 0.7324 - val_accuracy: 0.7467\n",
            "Epoch 26/38\n",
            "11/11 [==============================] - 1s 53ms/step - loss: 0.3135 - accuracy: 0.8842 - val_loss: 0.6169 - val_accuracy: 0.8067\n",
            "Epoch 27/38\n",
            "11/11 [==============================] - 1s 57ms/step - loss: 0.2616 - accuracy: 0.9243 - val_loss: 0.6166 - val_accuracy: 0.8333\n",
            "Epoch 28/38\n",
            "11/11 [==============================] - 1s 54ms/step - loss: 0.2524 - accuracy: 0.9243 - val_loss: 0.6377 - val_accuracy: 0.8067\n",
            "Epoch 29/38\n",
            "11/11 [==============================] - 1s 53ms/step - loss: 0.2234 - accuracy: 0.9310 - val_loss: 0.6003 - val_accuracy: 0.8267\n",
            "Epoch 30/38\n",
            "11/11 [==============================] - 1s 54ms/step - loss: 0.1958 - accuracy: 0.9510 - val_loss: 0.6249 - val_accuracy: 0.8400\n",
            "Epoch 31/38\n",
            "11/11 [==============================] - 1s 56ms/step - loss: 0.1991 - accuracy: 0.9332 - val_loss: 0.6358 - val_accuracy: 0.8333\n",
            "Epoch 32/38\n",
            "11/11 [==============================] - 1s 54ms/step - loss: 0.1897 - accuracy: 0.9399 - val_loss: 0.8070 - val_accuracy: 0.7600\n",
            "Epoch 33/38\n",
            "11/11 [==============================] - 1s 54ms/step - loss: 0.1742 - accuracy: 0.9443 - val_loss: 0.6112 - val_accuracy: 0.8267\n",
            "Epoch 34/38\n",
            "11/11 [==============================] - 1s 55ms/step - loss: 0.1790 - accuracy: 0.9443 - val_loss: 0.8117 - val_accuracy: 0.7467\n",
            "Epoch 35/38\n",
            "11/11 [==============================] - 1s 54ms/step - loss: 0.1814 - accuracy: 0.9465 - val_loss: 0.6677 - val_accuracy: 0.8200\n",
            "Epoch 36/38\n",
            "11/11 [==============================] - 1s 53ms/step - loss: 0.1944 - accuracy: 0.9421 - val_loss: 0.6966 - val_accuracy: 0.7867\n",
            "Epoch 37/38\n",
            "11/11 [==============================] - 1s 54ms/step - loss: 0.1466 - accuracy: 0.9488 - val_loss: 0.6113 - val_accuracy: 0.8267\n",
            "Epoch 38/38\n",
            "11/11 [==============================] - 1s 55ms/step - loss: 0.1091 - accuracy: 0.9755 - val_loss: 0.6339 - val_accuracy: 0.8200\n"
          ],
          "name": "stdout"
        }
      ]
    },
    {
      "cell_type": "code",
      "metadata": {
        "colab": {
          "base_uri": "https://localhost:8080/",
          "height": 590
        },
        "id": "VGac270shIPq",
        "outputId": "6c8c4da7-d607-472a-fff7-90cb8ce3ed5c"
      },
      "source": [
        "import matplotlib.pyplot as plt\n",
        "\n",
        "print(H.history.keys())\n",
        "# summarize history for accuracy\n",
        "plt.plot(H.history['accuracy'])\n",
        "plt.plot(H.history['val_accuracy'])\n",
        "plt.title('model accuracy')\n",
        "plt.ylabel('accuracy')\n",
        "plt.xlabel('epoch')\n",
        "plt.legend(['train', 'test'], loc='upper left')\n",
        "plt.show()\n",
        "# summarize history for loss\n",
        "plt.plot(H.history['loss'])\n",
        "plt.plot(H.history['val_loss'])\n",
        "plt.title('model loss')\n",
        "plt.ylabel('loss')\n",
        "plt.xlabel('epoch')\n",
        "plt.legend(['train', 'test'], loc='upper left')\n",
        "plt.show()"
      ],
      "execution_count": 13,
      "outputs": [
        {
          "output_type": "stream",
          "text": [
            "dict_keys(['loss', 'accuracy', 'val_loss', 'val_accuracy'])\n"
          ],
          "name": "stdout"
        },
        {
          "output_type": "display_data",
          "data": {
            "image/png": "[encoded data removed]",
            "text/plain": [
              "<Figure size 432x288 with 1 Axes>"
            ]
          },
          "metadata": {
            "tags": [],
            "needs_background": "light"
          }
        },
        {
          "output_type": "display_data",
          "data": {
            "image/png": "[encoded data removed]",
            "text/plain": [
              "<Figure size 432x288 with 1 Axes>"
            ]
          },
          "metadata": {
            "tags": [],
            "needs_background": "light"
          }
        }
      ]
    },
    {
      "cell_type": "code",
      "metadata": {
        "colab": {
          "base_uri": "https://localhost:8080/"
        },
        "id": "HtV1iz5zhJ6N",
        "outputId": "e3a43786-ecec-48d8-b80b-02f2a8b74436"
      },
      "source": [
        "# evaluate the network\n",
        "print(\"[INFO] evaluating network...\")\n",
        "predictions = model1.predict(testX, batch_size=42)\n",
        "print(classification_report(testY.argmax(axis=1),\n",
        "\tpredictions.argmax(axis=1), target_names=lb.classes_))"
      ],
      "execution_count": 14,
      "outputs": [
        {
          "output_type": "stream",
          "text": [
            "[INFO] evaluating network...\n",
            "              precision    recall  f1-score   support\n",
            "\n",
            "      GMB_03       0.84      0.90      0.87        30\n",
            "      GMB_04       0.73      0.76      0.75        25\n",
            "      GMB_06       0.85      0.74      0.79        31\n",
            "      GMB_09       0.82      1.00      0.90        28\n",
            "      GMB_11       0.84      0.72      0.78        36\n",
            "\n",
            "    accuracy                           0.82       150\n",
            "   macro avg       0.82      0.82      0.82       150\n",
            "weighted avg       0.82      0.82      0.82       150\n",
            "\n"
          ],
          "name": "stdout"
        }
      ]
    }
  ]
}